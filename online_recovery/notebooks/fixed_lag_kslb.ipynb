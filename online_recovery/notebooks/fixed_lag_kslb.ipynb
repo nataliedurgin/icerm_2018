{
 "cells": [
  {
   "cell_type": "markdown",
   "metadata": {},
   "source": [
    "# Online Recovery of Temporally Correlated Sparse Signals Using Multiple Measurement Vectors"
   ]
  },
  {
   "cell_type": "code",
   "execution_count": 207,
   "metadata": {},
   "outputs": [],
   "source": [
    "import scipy as sp\n",
    "import matplotlib.pyplot as plt\n",
    "import seaborn as sns\n",
    "from collections import defaultdict\n",
    "%matplotlib inline\n",
    "plt.rcParams['figure.figsize'] = [10, 8]\n",
    "sns.set_style(\"darkgrid\")"
   ]
  },
  {
   "cell_type": "markdown",
   "metadata": {},
   "source": [
    "## Numerical Setup"
   ]
  },
  {
   "cell_type": "code",
   "execution_count": 32,
   "metadata": {},
   "outputs": [],
   "source": [
    "N=50\n",
    "M = 20 # Number of measurements \n",
    "S = 5 # Number of non-zero coefficents \n",
    "K = 40\n",
    "sparse_support= sp.random.choice(N, S, replace=False) # s locations chosen uniformly at random\n",
    "Delta=10 # Time lag allowed in estimation \n",
    "Phi = sp.random.normal(0, 1, (K, M, N)) # K measurement matrices"
   ]
  },
  {
   "cell_type": "code",
   "execution_count": 33,
   "metadata": {},
   "outputs": [],
   "source": [
    "def get_x_k(k, D_coeffs, z_coeffs, x_0_coeffs):\n",
    "    if k == 0:\n",
    "        return x_0_coeffs\n",
    "    else: \n",
    "        return  D_coeffs*get_x_k(k-1, D_coeffs, z_coeffs, x_0_coeffs) + z_coeffs[k]\n",
    "\n",
    "# Generated via the AR process\n",
    "def get_x(K, sparse_support):\n",
    "    S=len(sparse_support)\n",
    "    x_0_coeffs = sp.random.normal(0, 1, S) \n",
    "    D_coeffs = sp.random.uniform(0.8, 1.0, S) # Correlation matrix with diagnonal entries chosen uniformly from [0.8, 1]\n",
    "    z_coeffs = sp.random.normal(0, (1-D_coeffs**2)[1], (K, S))\n",
    "    x=[sp.sparse.csr_matrix((get_x_k(k, D_coeffs, z_coeffs, x_0_coeffs), (\n",
    "        sparse_support, sp.zeros(S))), shape=(N,1)) for k in range(K)]\n",
    "    return sp.sparse.hstack(x), D_coeffs, z_coeffs"
   ]
  },
  {
   "cell_type": "code",
   "execution_count": 74,
   "metadata": {},
   "outputs": [],
   "source": [
    "x, D_coeffs, z_coeffs = get_x(40, sparse_support)"
   ]
  },
  {
   "cell_type": "code",
   "execution_count": 75,
   "metadata": {},
   "outputs": [
    {
     "data": {
      "text/plain": [
       "<matplotlib.axes._subplots.AxesSubplot at 0x118ec6410>"
      ]
     },
     "execution_count": 75,
     "metadata": {},
     "output_type": "execute_result"
    },
    {
     "data": {
      "image/png": "[encoded data removed]",
      "text/plain": [
       "<Figure size 720x576 with 2 Axes>"
      ]
     },
     "metadata": {},
     "output_type": "display_data"
    }
   ],
   "source": [
    "sns.heatmap(x.todense())"
   ]
  },
  {
   "cell_type": "code",
   "execution_count": 31,
   "metadata": {},
   "outputs": [],
   "source": [
    "def get_y_k(k, x, Phi, noise=0):\n",
    "    return Phi[k]*x.todense()[:,k] + noise"
   ]
  },
  {
   "cell_type": "code",
   "execution_count": 443,
   "metadata": {},
   "outputs": [
    {
     "data": {
      "text/plain": [
       "matrix([[ 0.16122536],\n",
       "        [ 2.12959573],\n",
       "        [-2.12617323],\n",
       "        [ 4.52410332],\n",
       "        [-0.92371779],\n",
       "        [-3.16099036],\n",
       "        [-1.17462538],\n",
       "        [ 1.15076723],\n",
       "        [-1.15305712],\n",
       "        [-1.95627503],\n",
       "        [-0.15277197],\n",
       "        [-0.84551283],\n",
       "        [ 1.80881252],\n",
       "        [ 1.09408158],\n",
       "        [-1.3108321 ],\n",
       "        [-2.95810325],\n",
       "        [ 3.0910704 ],\n",
       "        [ 1.75078184],\n",
       "        [ 2.11092756],\n",
       "        [-1.95304578]])"
      ]
     },
     "execution_count": 443,
     "metadata": {},
     "output_type": "execute_result"
    }
   ],
   "source": [
    "get_y_k(0, x, Phi)"
   ]
  },
  {
   "cell_type": "code",
   "execution_count": null,
   "metadata": {},
   "outputs": [],
   "source": []
  },
  {
   "cell_type": "markdown",
   "metadata": {},
   "source": [
    "## Performance Metrics"
   ]
  },
  {
   "cell_type": "markdown",
   "metadata": {},
   "source": [
    "### Mean Squared Error (MSE)"
   ]
  },
  {
   "cell_type": "code",
   "execution_count": 161,
   "metadata": {},
   "outputs": [],
   "source": [
    "# Inputs are NxK matrices \n",
    "# For array inputs need **2, for sparse matrices can do .power\n",
    "# Text for correct axis: \n",
    "# testx = sp.sparse.csr_matrix([[0, 0],[0, 0]])\n",
    "# testxh = sp.sparse.csr_matrix([[1,0],[1, 0]])\n",
    "# Answer should be [1., 0.], before summing\n",
    "def get_mse(x_hat, x):\n",
    "    return ((x_hat - x).power(2)).mean(axis=0).sum()"
   ]
  },
  {
   "cell_type": "markdown",
   "metadata": {},
   "source": [
    "### Support Recovery Rate (SRR)"
   ]
  },
  {
   "cell_type": "code",
   "execution_count": 223,
   "metadata": {},
   "outputs": [],
   "source": [
    "# x_hat is a scipy sparse NxK matrix \n",
    "# for each k, computes the number of support indices the estimate missed, \n",
    "# divided by the cardinaity of the sparse support, then averages over k\n",
    "# 1-miss rate ===> success rate\n",
    "def get_ssr(x_hat, sparse_support):\n",
    "    x_sup = set(sparse_support)\n",
    "    # make support dictionary from the nonzero elements of x_hat\n",
    "    x_hat_sup = defaultdict(list)\n",
    "    for i, k in zip(*x_hat.nonzero()):\n",
    "        x_hat_sup[k].append(i)\n",
    "    return 1-sp.mean([len(x_sup.difference(set(x_hat_sup[k])))/float(len(x_sup)) \n",
    "                      for k in range(x_hat.shape[1])])"
   ]
  },
  {
   "cell_type": "markdown",
   "metadata": {},
   "source": [
    "### Run Time"
   ]
  },
  {
   "cell_type": "code",
   "execution_count": 206,
   "metadata": {},
   "outputs": [
    {
     "name": "stdout",
     "output_type": "stream",
     "text": [
      "1 loop, best of 3: 0 ns per loop\n"
     ]
    }
   ],
   "source": [
    "%%timeit -n1\n",
    "1+1"
   ]
  },
  {
   "cell_type": "markdown",
   "metadata": {},
   "source": [
    "## Fixed Lag KSBL"
   ]
  },
  {
   "cell_type": "code",
   "execution_count": 26,
   "metadata": {},
   "outputs": [],
   "source": []
  },
  {
   "cell_type": "code",
   "execution_count": null,
   "metadata": {},
   "outputs": [],
   "source": []
  },
  {
   "cell_type": "code",
   "execution_count": null,
   "metadata": {},
   "outputs": [],
   "source": []
  }
 ],
 "metadata": {
  "kernelspec": {
   "display_name": "Python 2",
   "language": "python",
   "name": "python2"
  },
  "language_info": {
   "codemirror_mode": {
    "name": "ipython",
    "version": 2
   },
   "file_extension": ".py",
   "mimetype": "text/x-python",
   "name": "python",
   "nbconvert_exporter": "python",
   "pygments_lexer": "ipython2",
   "version": "2.7.13"
  }
 },
 "nbformat": 4,
 "nbformat_minor": 2
}
